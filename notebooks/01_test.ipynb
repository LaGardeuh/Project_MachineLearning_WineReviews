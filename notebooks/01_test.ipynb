{
 "cells": [
  {
   "cell_type": "code",
   "id": "initial_id",
   "metadata": {
    "collapsed": true,
    "ExecuteTime": {
     "end_time": "2025-10-30T08:55:53.142862Z",
     "start_time": "2025-10-30T08:55:52.556159Z"
    }
   },
   "source": [
    "import pandas as pd\n",
    "\n",
    "file_path = \"../data/raw/winemag-data_first150k.csv\"\n",
    "df = pd.read_csv(file_path)\n",
    "\n",
    "# Display the first 200 rows\n",
    "print(df.head(200))"
   ],
   "outputs": [
    {
     "name": "stdout",
     "output_type": "stream",
     "text": [
      "     Unnamed: 0 country                                        description  \\\n",
      "0             0      US  This tremendous 100% varietal wine hails from ...   \n",
      "1             1   Spain  Ripe aromas of fig, blackberry and cassis are ...   \n",
      "2             2      US  Mac Watson honors the memory of a wine once ma...   \n",
      "3             3      US  This spent 20 months in 30% new French oak, an...   \n",
      "4             4  France  This is the top wine from La Bégude, named aft...   \n",
      "..          ...     ...                                                ...   \n",
      "195         195  France  This is a smoky, obviously wood-aged wine. The...   \n",
      "196         196      US  A creamy, buttery texture wraps around a core ...   \n",
      "197         197      US  This saignée-style wine is pale salmon in colo...   \n",
      "198         198      US  Zesty and mineral, this unoaked, citrusy Chard...   \n",
      "199         199      US  Smoke and violet perfume are seductive on this...   \n",
      "\n",
      "                              designation  points  price        province  \\\n",
      "0                       Martha's Vineyard      96  235.0      California   \n",
      "1    Carodorum Selección Especial Reserva      96  110.0  Northern Spain   \n",
      "2           Special Selected Late Harvest      96   90.0      California   \n",
      "3                                 Reserve      96   65.0          Oregon   \n",
      "4                              La Brûlade      95   66.0        Provence   \n",
      "..                                    ...     ...    ...             ...   \n",
      "195                                   NaN      87   25.0        Bordeaux   \n",
      "196                                   NaN      87   10.0      California   \n",
      "197                               Rosé of      87   18.0      Washington   \n",
      "198                Ingle Vineyard Unoaked      87   18.0        New York   \n",
      "199                              Semi-Dry      87   14.0        New York   \n",
      "\n",
      "                 region_1           region_2                   variety  \\\n",
      "0             Napa Valley               Napa        Cabernet Sauvignon   \n",
      "1                    Toro                NaN             Tinta de Toro   \n",
      "2          Knights Valley             Sonoma           Sauvignon Blanc   \n",
      "3       Willamette Valley  Willamette Valley                Pinot Noir   \n",
      "4                  Bandol                NaN        Provence red blend   \n",
      "..                    ...                ...                       ...   \n",
      "195            Haut-Médoc                NaN  Bordeaux-style Red Blend   \n",
      "196            California   California Other                Chardonnay   \n",
      "197  Columbia Valley (WA)    Columbia Valley                    Malbec   \n",
      "198          Finger Lakes       Finger Lakes                Chardonnay   \n",
      "199          Finger Lakes       Finger Lakes                  Riesling   \n",
      "\n",
      "                      winery  \n",
      "0                      Heitz  \n",
      "1    Bodega Carmen Rodríguez  \n",
      "2                   Macauley  \n",
      "3                      Ponzi  \n",
      "4       Domaine de la Bégude  \n",
      "..                       ...  \n",
      "195           Château Magnol  \n",
      "196            Grand Pacific  \n",
      "197                 Hamilton  \n",
      "198               Heron Hill  \n",
      "199               Heron Hill  \n",
      "\n",
      "[200 rows x 11 columns]\n"
     ]
    }
   ],
   "execution_count": 2
  },
  {
   "metadata": {},
   "cell_type": "code",
   "outputs": [],
   "execution_count": null,
   "source": "",
   "id": "95e1a93b95bd616b"
  }
 ],
 "metadata": {
  "kernelspec": {
   "display_name": "Python 3",
   "language": "python",
   "name": "python3"
  },
  "language_info": {
   "codemirror_mode": {
    "name": "ipython",
    "version": 2
   },
   "file_extension": ".py",
   "mimetype": "text/x-python",
   "name": "python",
   "nbconvert_exporter": "python",
   "pygments_lexer": "ipython2",
   "version": "2.7.6"
  }
 },
 "nbformat": 4,
 "nbformat_minor": 5
}
